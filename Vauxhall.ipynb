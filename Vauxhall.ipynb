{
 "cells": [
  {
   "attachments": {},
   "cell_type": "markdown",
   "metadata": {},
   "source": [
    "#deskripsi library yang digunakan"
   ]
  },
  {
   "cell_type": "code",
   "execution_count": 1,
   "metadata": {},
   "outputs": [],
   "source": [
    "import pandas as pd\n",
    "import numpy as np\n",
    "import seaborn as sns\n",
    "import matplotlib.pyplot as plt"
   ]
  },
  {
   "attachments": {},
   "cell_type": "markdown",
   "metadata": {},
   "source": [
    "Memanggil dataset"
   ]
  },
  {
   "cell_type": "code",
   "execution_count": 2,
   "metadata": {},
   "outputs": [],
   "source": [
    "df = pd.read_csv('vauxhall.csv')"
   ]
  },
  {
   "attachments": {},
   "cell_type": "markdown",
   "metadata": {},
   "source": [
    "Deskripsi dataset"
   ]
  },
  {
   "cell_type": "code",
   "execution_count": 3,
   "metadata": {},
   "outputs": [
    {
     "data": {
      "text/html": [
       "<div>\n",
       "<style scoped>\n",
       "    .dataframe tbody tr th:only-of-type {\n",
       "        vertical-align: middle;\n",
       "    }\n",
       "\n",
       "    .dataframe tbody tr th {\n",
       "        vertical-align: top;\n",
       "    }\n",
       "\n",
       "    .dataframe thead th {\n",
       "        text-align: right;\n",
       "    }\n",
       "</style>\n",
       "<table border=\"1\" class=\"dataframe\">\n",
       "  <thead>\n",
       "    <tr style=\"text-align: right;\">\n",
       "      <th></th>\n",
       "      <th>model</th>\n",
       "      <th>year</th>\n",
       "      <th>price</th>\n",
       "      <th>transmission</th>\n",
       "      <th>mileage</th>\n",
       "      <th>fuelType</th>\n",
       "      <th>tax</th>\n",
       "      <th>mpg</th>\n",
       "      <th>engineSize</th>\n",
       "    </tr>\n",
       "  </thead>\n",
       "  <tbody>\n",
       "    <tr>\n",
       "      <th>0</th>\n",
       "      <td>Corsa</td>\n",
       "      <td>2018</td>\n",
       "      <td>7885</td>\n",
       "      <td>Manual</td>\n",
       "      <td>9876</td>\n",
       "      <td>Petrol</td>\n",
       "      <td>145</td>\n",
       "      <td>55.4</td>\n",
       "      <td>1.4</td>\n",
       "    </tr>\n",
       "    <tr>\n",
       "      <th>1</th>\n",
       "      <td>Corsa</td>\n",
       "      <td>2019</td>\n",
       "      <td>11995</td>\n",
       "      <td>Manual</td>\n",
       "      <td>2500</td>\n",
       "      <td>Petrol</td>\n",
       "      <td>145</td>\n",
       "      <td>54.3</td>\n",
       "      <td>1.4</td>\n",
       "    </tr>\n",
       "    <tr>\n",
       "      <th>2</th>\n",
       "      <td>Corsa</td>\n",
       "      <td>2017</td>\n",
       "      <td>9777</td>\n",
       "      <td>Automatic</td>\n",
       "      <td>9625</td>\n",
       "      <td>Petrol</td>\n",
       "      <td>145</td>\n",
       "      <td>47.9</td>\n",
       "      <td>1.4</td>\n",
       "    </tr>\n",
       "    <tr>\n",
       "      <th>3</th>\n",
       "      <td>Corsa</td>\n",
       "      <td>2016</td>\n",
       "      <td>8500</td>\n",
       "      <td>Manual</td>\n",
       "      <td>25796</td>\n",
       "      <td>Petrol</td>\n",
       "      <td>30</td>\n",
       "      <td>55.4</td>\n",
       "      <td>1.4</td>\n",
       "    </tr>\n",
       "    <tr>\n",
       "      <th>4</th>\n",
       "      <td>Corsa</td>\n",
       "      <td>2019</td>\n",
       "      <td>10000</td>\n",
       "      <td>Manual</td>\n",
       "      <td>3887</td>\n",
       "      <td>Petrol</td>\n",
       "      <td>145</td>\n",
       "      <td>43.5</td>\n",
       "      <td>1.4</td>\n",
       "    </tr>\n",
       "  </tbody>\n",
       "</table>\n",
       "</div>"
      ],
      "text/plain": [
       "    model  year  price transmission  mileage fuelType  tax   mpg  engineSize\n",
       "0   Corsa  2018   7885       Manual     9876   Petrol  145  55.4         1.4\n",
       "1   Corsa  2019  11995       Manual     2500   Petrol  145  54.3         1.4\n",
       "2   Corsa  2017   9777    Automatic     9625   Petrol  145  47.9         1.4\n",
       "3   Corsa  2016   8500       Manual    25796   Petrol   30  55.4         1.4\n",
       "4   Corsa  2019  10000       Manual     3887   Petrol  145  43.5         1.4"
      ]
     },
     "execution_count": 3,
     "metadata": {},
     "output_type": "execute_result"
    }
   ],
   "source": [
    "df.head()"
   ]
  },
  {
   "cell_type": "code",
   "execution_count": 4,
   "metadata": {},
   "outputs": [
    {
     "name": "stdout",
     "output_type": "stream",
     "text": [
      "<class 'pandas.core.frame.DataFrame'>\n",
      "RangeIndex: 13632 entries, 0 to 13631\n",
      "Data columns (total 9 columns):\n",
      " #   Column        Non-Null Count  Dtype  \n",
      "---  ------        --------------  -----  \n",
      " 0   model         13632 non-null  object \n",
      " 1   year          13632 non-null  int64  \n",
      " 2   price         13632 non-null  int64  \n",
      " 3   transmission  13632 non-null  object \n",
      " 4   mileage       13632 non-null  int64  \n",
      " 5   fuelType      13632 non-null  object \n",
      " 6   tax           13632 non-null  int64  \n",
      " 7   mpg           13632 non-null  float64\n",
      " 8   engineSize    13632 non-null  float64\n",
      "dtypes: float64(2), int64(4), object(3)\n",
      "memory usage: 958.6+ KB\n"
     ]
    }
   ],
   "source": [
    "df.info()"
   ]
  },
  {
   "cell_type": "code",
   "execution_count": 5,
   "metadata": {},
   "outputs": [
    {
     "data": {
      "text/html": [
       "<div>\n",
       "<style scoped>\n",
       "    .dataframe tbody tr th:only-of-type {\n",
       "        vertical-align: middle;\n",
       "    }\n",
       "\n",
       "    .dataframe tbody tr th {\n",
       "        vertical-align: top;\n",
       "    }\n",
       "\n",
       "    .dataframe thead th {\n",
       "        text-align: right;\n",
       "    }\n",
       "</style>\n",
       "<table border=\"1\" class=\"dataframe\">\n",
       "  <thead>\n",
       "    <tr style=\"text-align: right;\">\n",
       "      <th></th>\n",
       "      <th>year</th>\n",
       "      <th>price</th>\n",
       "      <th>mileage</th>\n",
       "      <th>tax</th>\n",
       "      <th>mpg</th>\n",
       "      <th>engineSize</th>\n",
       "    </tr>\n",
       "  </thead>\n",
       "  <tbody>\n",
       "    <tr>\n",
       "      <th>count</th>\n",
       "      <td>13632.000000</td>\n",
       "      <td>13632.000000</td>\n",
       "      <td>13632.000000</td>\n",
       "      <td>13632.000000</td>\n",
       "      <td>13632.000000</td>\n",
       "      <td>13632.000000</td>\n",
       "    </tr>\n",
       "    <tr>\n",
       "      <th>mean</th>\n",
       "      <td>2016.958553</td>\n",
       "      <td>10406.457893</td>\n",
       "      <td>23499.298636</td>\n",
       "      <td>128.766872</td>\n",
       "      <td>51.535007</td>\n",
       "      <td>1.417232</td>\n",
       "    </tr>\n",
       "    <tr>\n",
       "      <th>std</th>\n",
       "      <td>2.098792</td>\n",
       "      <td>3567.387376</td>\n",
       "      <td>20084.443909</td>\n",
       "      <td>53.868348</td>\n",
       "      <td>10.004325</td>\n",
       "      <td>0.216389</td>\n",
       "    </tr>\n",
       "    <tr>\n",
       "      <th>min</th>\n",
       "      <td>1970.000000</td>\n",
       "      <td>450.000000</td>\n",
       "      <td>1.000000</td>\n",
       "      <td>0.000000</td>\n",
       "      <td>25.900000</td>\n",
       "      <td>0.000000</td>\n",
       "    </tr>\n",
       "    <tr>\n",
       "      <th>25%</th>\n",
       "      <td>2016.000000</td>\n",
       "      <td>7899.000000</td>\n",
       "      <td>9673.750000</td>\n",
       "      <td>125.000000</td>\n",
       "      <td>43.500000</td>\n",
       "      <td>1.400000</td>\n",
       "    </tr>\n",
       "    <tr>\n",
       "      <th>50%</th>\n",
       "      <td>2017.000000</td>\n",
       "      <td>9999.000000</td>\n",
       "      <td>18601.000000</td>\n",
       "      <td>145.000000</td>\n",
       "      <td>51.400000</td>\n",
       "      <td>1.400000</td>\n",
       "    </tr>\n",
       "    <tr>\n",
       "      <th>75%</th>\n",
       "      <td>2019.000000</td>\n",
       "      <td>12580.750000</td>\n",
       "      <td>32308.250000</td>\n",
       "      <td>145.000000</td>\n",
       "      <td>55.400000</td>\n",
       "      <td>1.500000</td>\n",
       "    </tr>\n",
       "    <tr>\n",
       "      <th>max</th>\n",
       "      <td>2020.000000</td>\n",
       "      <td>52489.000000</td>\n",
       "      <td>279000.000000</td>\n",
       "      <td>565.000000</td>\n",
       "      <td>235.400000</td>\n",
       "      <td>3.200000</td>\n",
       "    </tr>\n",
       "  </tbody>\n",
       "</table>\n",
       "</div>"
      ],
      "text/plain": [
       "               year         price        mileage           tax           mpg  \\\n",
       "count  13632.000000  13632.000000   13632.000000  13632.000000  13632.000000   \n",
       "mean    2016.958553  10406.457893   23499.298636    128.766872     51.535007   \n",
       "std        2.098792   3567.387376   20084.443909     53.868348     10.004325   \n",
       "min     1970.000000    450.000000       1.000000      0.000000     25.900000   \n",
       "25%     2016.000000   7899.000000    9673.750000    125.000000     43.500000   \n",
       "50%     2017.000000   9999.000000   18601.000000    145.000000     51.400000   \n",
       "75%     2019.000000  12580.750000   32308.250000    145.000000     55.400000   \n",
       "max     2020.000000  52489.000000  279000.000000    565.000000    235.400000   \n",
       "\n",
       "         engineSize  \n",
       "count  13632.000000  \n",
       "mean       1.417232  \n",
       "std        0.216389  \n",
       "min        0.000000  \n",
       "25%        1.400000  \n",
       "50%        1.400000  \n",
       "75%        1.500000  \n",
       "max        3.200000  "
      ]
     },
     "execution_count": 5,
     "metadata": {},
     "output_type": "execute_result"
    }
   ],
   "source": [
    "df.describe()"
   ]
  },
  {
   "attachments": {},
   "cell_type": "markdown",
   "metadata": {},
   "source": [
    "VISUALISASI DATA"
   ]
  },
  {
   "cell_type": "code",
   "execution_count": 6,
   "metadata": {},
   "outputs": [
    {
     "data": {
      "text/plain": [
       "<AxesSubplot:>"
      ]
     },
     "execution_count": 6,
     "metadata": {},
     "output_type": "execute_result"
    },
    {
     "data": {
      "image/png": "[encoded data removed]",
      "text/plain": [
       "<Figure size 720x576 with 2 Axes>"
      ]
     },
     "metadata": {
      "needs_background": "light"
     },
     "output_type": "display_data"
    }
   ],
   "source": [
    "plt.figure(figsize=(10,8))\n",
    "sns.heatmap(df.corr(),annot=True)"
   ]
  },
  {
   "attachments": {},
   "cell_type": "markdown",
   "metadata": {},
   "source": [
    "JUMLAH MOBIL BERDASARKAN MODEL"
   ]
  },
  {
   "cell_type": "code",
   "execution_count": 7,
   "metadata": {},
   "outputs": [],
   "source": [
    "models = df.groupby('model').count()[['tax']].sort_values(by='tax', ascending=True).reset_index()\n",
    "models = models.rename(columns={'tax': 'NumberofCars'})"
   ]
  },
  {
   "cell_type": "code",
   "execution_count": 8,
   "metadata": {},
   "outputs": [
    {
     "data": {
      "text/plain": [
       "(array([ 0,  1,  2,  3,  4,  5,  6,  7,  8,  9, 10, 11, 12, 13, 14, 15, 16,\n",
       "        17, 18, 19, 20, 21]),\n",
       " [Text(0, 0, ' Ampera'),\n",
       "  Text(1, 0, ' Tigra'),\n",
       "  Text(2, 0, ' Kadjar'),\n",
       "  Text(3, 0, ' Cascada'),\n",
       "  Text(4, 0, ' Vectra'),\n",
       "  Text(5, 0, ' Vivaro'),\n",
       "  Text(6, 0, ' Agila'),\n",
       "  Text(7, 0, ' Antara'),\n",
       "  Text(8, 0, ' Zafira Tourer'),\n",
       "  Text(9, 0, ' GTC'),\n",
       "  Text(10, 0, ' Combo Life'),\n",
       "  Text(11, 0, ' Meriva'),\n",
       "  Text(12, 0, ' Viva'),\n",
       "  Text(13, 0, ' Adam'),\n",
       "  Text(14, 0, ' Grandland X'),\n",
       "  Text(15, 0, ' Zafira'),\n",
       "  Text(16, 0, ' Crossland X'),\n",
       "  Text(17, 0, ' Mokka'),\n",
       "  Text(18, 0, ' Insignia'),\n",
       "  Text(19, 0, ' Mokka X'),\n",
       "  Text(20, 0, ' Astra'),\n",
       "  Text(21, 0, ' Corsa')])"
      ]
     },
     "execution_count": 8,
     "metadata": {},
     "output_type": "execute_result"
    },
    {
     "data": {
      "image/png": "[encoded data removed]",
      "text/plain": [
       "<Figure size 1080x360 with 1 Axes>"
      ]
     },
     "metadata": {
      "needs_background": "light"
     },
     "output_type": "display_data"
    }
   ],
   "source": [
    "fig = plt.figure(figsize=(15,5))\n",
    "sns.barplot(x=models['model'], y=models['NumberofCars'], color='royalblue')\n",
    "plt.xticks(rotation=60)"
   ]
  },
  {
   "attachments": {},
   "cell_type": "markdown",
   "metadata": {},
   "source": [
    "UKURAN MESIN"
   ]
  },
  {
   "cell_type": "code",
   "execution_count": 9,
   "metadata": {},
   "outputs": [],
   "source": [
    "engine = df.groupby('engineSize').count()[['tax']].sort_values(by='tax').reset_index()\n",
    "engine = engine.rename(columns={'tax':'count'})"
   ]
  },
  {
   "cell_type": "code",
   "execution_count": 10,
   "metadata": {},
   "outputs": [
    {
     "data": {
      "text/plain": [
       "<AxesSubplot:xlabel='engineSize', ylabel='count'>"
      ]
     },
     "execution_count": 10,
     "metadata": {},
     "output_type": "execute_result"
    },
    {
     "data": {
      "image/png": "[encoded data removed]",
      "text/plain": [
       "<Figure size 1080x360 with 1 Axes>"
      ]
     },
     "metadata": {
      "needs_background": "light"
     },
     "output_type": "display_data"
    }
   ],
   "source": [
    "plt.figure(figsize=(15,5))\n",
    "sns.barplot(x=engine['engineSize'], y=engine['count'], color='royalblue')"
   ]
  },
  {
   "attachments": {},
   "cell_type": "markdown",
   "metadata": {},
   "source": [
    "DISTRIBUSI MILEAGE"
   ]
  },
  {
   "cell_type": "code",
   "execution_count": 11,
   "metadata": {},
   "outputs": [
    {
     "name": "stderr",
     "output_type": "stream",
     "text": [
      "c:\\Users\\ASUS VivoBOOK\\anaconda3\\lib\\site-packages\\seaborn\\distributions.py:2619: FutureWarning: `distplot` is a deprecated function and will be removed in a future version. Please adapt your code to use either `displot` (a figure-level function with similar flexibility) or `histplot` (an axes-level function for histograms).\n",
      "  warnings.warn(msg, FutureWarning)\n"
     ]
    },
    {
     "data": {
      "text/plain": [
       "<AxesSubplot:xlabel='mileage', ylabel='Density'>"
      ]
     },
     "execution_count": 11,
     "metadata": {},
     "output_type": "execute_result"
    },
    {
     "data": {
      "image/png": "[encoded data removed]",
      "text/plain": [
       "<Figure size 1080x360 with 1 Axes>"
      ]
     },
     "metadata": {
      "needs_background": "light"
     },
     "output_type": "display_data"
    }
   ],
   "source": [
    "plt.figure(figsize=(15,5))\n",
    "sns.distplot(df['mileage'])"
   ]
  },
  {
   "attachments": {},
   "cell_type": "markdown",
   "metadata": {},
   "source": [
    "DISTRIBUSI HARGA MOBIL"
   ]
  },
  {
   "cell_type": "code",
   "execution_count": 12,
   "metadata": {},
   "outputs": [
    {
     "name": "stderr",
     "output_type": "stream",
     "text": [
      "c:\\Users\\ASUS VivoBOOK\\anaconda3\\lib\\site-packages\\seaborn\\distributions.py:2619: FutureWarning: `distplot` is a deprecated function and will be removed in a future version. Please adapt your code to use either `displot` (a figure-level function with similar flexibility) or `histplot` (an axes-level function for histograms).\n",
      "  warnings.warn(msg, FutureWarning)\n"
     ]
    },
    {
     "data": {
      "text/plain": [
       "<AxesSubplot:xlabel='price', ylabel='Density'>"
      ]
     },
     "execution_count": 12,
     "metadata": {},
     "output_type": "execute_result"
    },
    {
     "data": {
      "image/png": "[encoded data removed]",
      "text/plain": [
       "<Figure size 1080x360 with 1 Axes>"
      ]
     },
     "metadata": {
      "needs_background": "light"
     },
     "output_type": "display_data"
    }
   ],
   "source": [
    "plt.figure(figsize=(15,5))\n",
    "sns.distplot(df['price'])"
   ]
  },
  {
   "attachments": {},
   "cell_type": "markdown",
   "metadata": {},
   "source": [
    "SELEKSI FITUR"
   ]
  },
  {
   "cell_type": "code",
   "execution_count": 13,
   "metadata": {},
   "outputs": [
    {
     "data": {
      "text/plain": [
       "((13632, 5), (13632,))"
      ]
     },
     "execution_count": 13,
     "metadata": {},
     "output_type": "execute_result"
    }
   ],
   "source": [
    "features = ['year', 'mileage', 'tax', 'mpg', 'engineSize']\n",
    "x = df[features]\n",
    "y = df['price']\n",
    "x.shape, y.shape"
   ]
  },
  {
   "attachments": {},
   "cell_type": "markdown",
   "metadata": {},
   "source": [
    "SPLIT DATA TRAINING DAN DATA TESTING"
   ]
  },
  {
   "cell_type": "code",
   "execution_count": 14,
   "metadata": {},
   "outputs": [
    {
     "data": {
      "text/plain": [
       "(3408,)"
      ]
     },
     "execution_count": 14,
     "metadata": {},
     "output_type": "execute_result"
    }
   ],
   "source": [
    "from sklearn.model_selection import train_test_split\n",
    "x_train, x_test, y_train, y_test = train_test_split(x,y,random_state=70)\n",
    "y_test.shape"
   ]
  },
  {
   "attachments": {},
   "cell_type": "markdown",
   "metadata": {},
   "source": [
    "MODEL REGRESI LINIER"
   ]
  },
  {
   "cell_type": "code",
   "execution_count": 15,
   "metadata": {},
   "outputs": [],
   "source": [
    "from sklearn.linear_model import LinearRegression\n",
    "lr = LinearRegression()\n",
    "lr.fit(x_train, y_train)\n",
    "pred = lr.predict(x_test)"
   ]
  },
  {
   "cell_type": "code",
   "execution_count": 16,
   "metadata": {},
   "outputs": [
    {
     "name": "stdout",
     "output_type": "stream",
     "text": [
      "akurasi model regresi linier =  0.5784145108498517\n"
     ]
    }
   ],
   "source": [
    "score = lr.score(x_test, y_test)\n",
    "print('akurasi model regresi linier = ', score)"
   ]
  },
  {
   "attachments": {},
   "cell_type": "markdown",
   "metadata": {},
   "source": [
    "INPUT MODEL REGRESI LINIER"
   ]
  },
  {
   "cell_type": "code",
   "execution_count": 17,
   "metadata": {},
   "outputs": [
    {
     "name": "stdout",
     "output_type": "stream",
     "text": [
      "Estimasi Harga:  [14971.2935339]\n"
     ]
    },
    {
     "name": "stderr",
     "output_type": "stream",
     "text": [
      "c:\\Users\\ASUS VivoBOOK\\anaconda3\\lib\\site-packages\\sklearn\\base.py:450: UserWarning: X does not have valid feature names, but LinearRegression was fitted with feature names\n",
      "  warnings.warn(\n"
     ]
    }
   ],
   "source": [
    "#year=2019, mileage=5000, tax=45, mpg=30, enginesize=2\n",
    "input_data = np.array([[2019, 5000, 145, 30, 2]])\n",
    "\n",
    "prediction = lr.predict(input_data)\n",
    "print('Estimasi Harga: ', prediction)"
   ]
  },
  {
   "attachments": {},
   "cell_type": "markdown",
   "metadata": {},
   "source": [
    "SAVING MODEL PICKLE"
   ]
  },
  {
   "cell_type": "code",
   "execution_count": 18,
   "metadata": {},
   "outputs": [],
   "source": [
    "import pickle\n",
    "\n",
    "filename = 'vauxhall.sav'\n",
    "pickle.dump(lr, open(filename, 'wb'))"
   ]
  },
  {
   "cell_type": "code",
   "execution_count": null,
   "metadata": {},
   "outputs": [],
   "source": []
  },
  {
   "cell_type": "code",
   "execution_count": null,
   "metadata": {},
   "outputs": [],
   "source": []
  }
 ],
 "metadata": {
  "kernelspec": {
   "display_name": "base",
   "language": "python",
   "name": "python3"
  },
  "language_info": {
   "codemirror_mode": {
    "name": "ipython",
    "version": 3
   },
   "file_extension": ".py",
   "mimetype": "text/x-python",
   "name": "python",
   "nbconvert_exporter": "python",
   "pygments_lexer": "ipython3",
   "version": "3.9.12"
  },
  "orig_nbformat": 4
 },
 "nbformat": 4,
 "nbformat_minor": 2
}
